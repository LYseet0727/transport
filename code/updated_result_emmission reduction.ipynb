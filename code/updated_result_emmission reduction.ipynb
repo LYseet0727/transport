{
 "cells": [
  {
   "cell_type": "code",
   "execution_count": 4,
   "id": "a3470a83",
   "metadata": {},
   "outputs": [
    {
     "name": "stdout",
     "output_type": "stream",
     "text": [
      "The updated result table has been saved as 'updated_result_emmission reduction .csv'.\n"
     ]
    }
   ],
   "source": [
    "import pandas as pd\n",
    "\n",
    "# 请替换下面的文件路径为您本地的文件路径\n",
    "path_filtered_data_new = '/Users/siqinlilv/Desktop/Energy and Transport Analytics/filtered_data_new.csv'  # 请修改这里的路径\n",
    "path_result = '/Users/siqinlilv/Desktop/Energy and Transport Analytics/emission_reduction.csv'  # 请修改这里的路径\n",
    "\n",
    "# 读取数据\n",
    "filtered_data_new = pd.read_csv(path_filtered_data_new)\n",
    "result = pd.read_csv(path_result)\n",
    "\n",
    "# 去除重复的Count_point_id，保留第一个（假设每个ID的经纬度是相同的）\n",
    "filtered_data_new_unique = filtered_data_new.drop_duplicates(subset='Count_point_id', keep='first')\n",
    "\n",
    "# 选择需要合并的列\n",
    "filtered_data_new_relevant = filtered_data_new_unique[['Count_point_id', 'Longitude', 'Latitude']]\n",
    "\n",
    "# 在'Count_point_id'上合并数据\n",
    "result_updated = result.merge(filtered_data_new_relevant, on='Count_point_id', how='left')\n",
    "\n",
    "# 保存更新后的数据到新的CSV文件\n",
    "result_updated.to_csv('updated_result.csv', index=False)\n",
    "\n",
    "print(\"The updated result table has been saved as 'updated_result_emmission reduction .csv'.\")\n"
   ]
  },
  {
   "cell_type": "code",
   "execution_count": null,
   "id": "d5a8bb7b",
   "metadata": {},
   "outputs": [],
   "source": []
  }
 ],
 "metadata": {
  "kernelspec": {
   "display_name": "Python 3 (ipykernel)",
   "language": "python",
   "name": "python3"
  },
  "language_info": {
   "codemirror_mode": {
    "name": "ipython",
    "version": 3
   },
   "file_extension": ".py",
   "mimetype": "text/x-python",
   "name": "python",
   "nbconvert_exporter": "python",
   "pygments_lexer": "ipython3",
   "version": "3.11.4"
  }
 },
 "nbformat": 4,
 "nbformat_minor": 5
}
